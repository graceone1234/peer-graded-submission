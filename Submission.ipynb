{
 "cells": [
  {
   "cell_type": "markdown",
   "metadata": {
    "tags": []
   },
   "source": [
    "<center>\n",
    "    <img src=\"https://cf-courses-data.s3.us.cloud-object-storage.appdomain.cloud/IBMDeveloperSkillsNetwork-DS0105EN-SkillsNetwork/labs/Module2/images/SN_web_lightmode.png\" width=\"300\" alt=\"cognitiveclass.ai logo\">\n",
    "</center>\n"
   ]
  },
  {
   "cell_type": "markdown",
   "metadata": {},
   "source": [
    "#### Add your code below following the instructions given in the course\n"
   ]
  },
  {
   "cell_type": "markdown",
   "metadata": {},
   "source": [
    "**Graded peer assignment**\n"
   ]
  },
  {
   "cell_type": "markdown",
   "metadata": {},
   "source": [
    "Introduction:\n",
    "This notebook is about my peer assessment for learning data science, I will be exploring the IBM skills network lab \n",
    "interface to carry out the task."
   ]
  },
  {
   "cell_type": "markdown",
   "metadata": {},
   "source": [
    "The following are the data science languages:\n",
    "- Python\n",
    "- SQL (Structured Query Language)\n",
    "- R\n",
    "- Julia\n",
    "- MatLab\n",
    "- GO\n",
    "- Scala\n",
    "- JavaScript\n",
    "- Java\n",
    "- SAS \n",
    "- C/C++\n",
    "\n"
   ]
  },
  {
   "cell_type": "markdown",
   "metadata": {},
   "source": [
    "The following are the data science liberies:\n",
    "- Matplotlip\n",
    "- Panda\n",
    "- Keras\n",
    "- TensorFlow\n",
    "- Numpy\n",
    "- Scipy\n",
    "- Scikit-Learn\n",
    "- PyTourch\n",
    "- Pipenv"
   ]
  },
  {
   "cell_type": "markdown",
   "metadata": {},
   "source": [
    "| s/n  | datascience tools  |\n",
    "| ---- | ------------------ | \n",
    "| 1    | MatLab             |\n",
    "| 2    | Apache Spark       |\n",
    "| 3    | SAS                |\n",
    "| 4    | Excel              |\n",
    "| 5    | ggplot2            |\n",
    "| 6    | Jupyter            |\n",
    "| 7    | Matplotlib         |\n",
    "| 8    | Tabluea            |\n",
    "| 9    | TensorFlow         |\n",
    "| 10   | scikit-Learn       |"
   ]
  },
  {
   "cell_type": "markdown",
   "metadata": {},
   "source": [
    "Addition of numbers is adding numbers together to get their total, 1+1 = 2\n",
    "Multiplication of numbers such as 1*1 + 1\n",
    "Division of numbers such as 2/2 = 1\n",
    " "
   ]
  },
  {
   "cell_type": "code",
   "execution_count": 1,
   "metadata": {},
   "outputs": [
    {
     "data": {
      "text/plain": [
       "12"
      ]
     },
     "execution_count": 1,
     "metadata": {},
     "output_type": "execute_result"
    }
   ],
   "source": [
    "(2*5)+2"
   ]
  },
  {
   "cell_type": "code",
   "execution_count": 3,
   "metadata": {},
   "outputs": [
    {
     "data": {
      "text/plain": [
       "2.0"
      ]
     },
     "execution_count": 3,
     "metadata": {},
     "output_type": "execute_result"
    }
   ],
   "source": [
    "\"\"\"60sec = 1min\n",
    "60min = 1hour\n",
    "so let convert 120mins to hour\n",
    "\"\"\"\n",
    "120/60\n",
    "\n"
   ]
  },
  {
   "cell_type": "markdown",
   "metadata": {},
   "source": [
    "The objectives are:\n",
    "- to master the jupyter notebook interface\n",
    "- master how to render a cell to markdown\n",
    "- master how to render a cell to active code cell\n",
    "- master performing arithemetic operations\n",
    "- Master how to make a list, table in jupyter notebook"
   ]
  },
  {
   "cell_type": "markdown",
   "metadata": {},
   "source": [
    "Author's name is Grace Ochai"
   ]
  },
  {
   "cell_type": "code",
   "execution_count": null,
   "metadata": {},
   "outputs": [],
   "source": []
  }
 ],
 "metadata": {
  "kernelspec": {
   "display_name": "Python",
   "language": "python",
   "name": "conda-env-python-py"
  },
  "language_info": {
   "codemirror_mode": {
    "name": "ipython",
    "version": 3
   },
   "file_extension": ".py",
   "mimetype": "text/x-python",
   "name": "python",
   "nbconvert_exporter": "python",
   "pygments_lexer": "ipython3",
   "version": "3.7.12"
  }
 },
 "nbformat": 4,
 "nbformat_minor": 4
}
